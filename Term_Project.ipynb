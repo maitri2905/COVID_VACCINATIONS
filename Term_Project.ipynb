{
  "nbformat": 4,
  "nbformat_minor": 0,
  "metadata": {
    "colab": {
      "name": "Term_Project.ipynb",
      "provenance": [],
      "authorship_tag": "ABX9TyPGDx3yAHQC/lvbBKw7FwQU",
      "include_colab_link": true
    },
    "kernelspec": {
      "name": "python3",
      "display_name": "Python 3"
    },
    "language_info": {
      "name": "python"
    }
  },
  "cells": [
    {
      "cell_type": "markdown",
      "metadata": {
        "id": "view-in-github",
        "colab_type": "text"
      },
      "source": [
        "<a href=\"https://colab.research.google.com/github/maitri2905/US_STATE_VACCINATIONS/blob/main/Term_Project.ipynb\" target=\"_parent\"><img src=\"https://colab.research.google.com/assets/colab-badge.svg\" alt=\"Open In Colab\"/></a>"
      ]
    },
    {
      "cell_type": "code",
      "metadata": {
        "colab": {
          "base_uri": "https://localhost:8080/"
        },
        "id": "r0PhV7F7du7S",
        "outputId": "2a1964d3-552e-4353-f847-b8720731064a"
      },
      "source": [
        "from google.colab import drive\n",
        "drive.mount('/content/gdrive')"
      ],
      "execution_count": 1,
      "outputs": [
        {
          "output_type": "stream",
          "text": [
            "Mounted at /content/gdrive\n"
          ],
          "name": "stdout"
        }
      ]
    },
    {
      "cell_type": "code",
      "metadata": {
        "id": "XtqmWABjdAU2"
      },
      "source": [
        "import pandas as pd\n",
        "import numpy as np\n",
        "import seaborn as sns"
      ],
      "execution_count": 2,
      "outputs": []
    },
    {
      "cell_type": "code",
      "metadata": {
        "colab": {
          "base_uri": "https://localhost:8080/",
          "height": 305
        },
        "id": "2jEpEpnUdEyo",
        "outputId": "29b79e6b-42b9-4ac6-8a47-5c71af5747ef"
      },
      "source": [
        "covid = pd.read_csv('/content/gdrive/My Drive/US_STATE_VACCINATIONS/Data.csv')\n",
        "covid.head()"
      ],
      "execution_count": 3,
      "outputs": [
        {
          "output_type": "execute_result",
          "data": {
            "text/html": [
              "<div>\n",
              "<style scoped>\n",
              "    .dataframe tbody tr th:only-of-type {\n",
              "        vertical-align: middle;\n",
              "    }\n",
              "\n",
              "    .dataframe tbody tr th {\n",
              "        vertical-align: top;\n",
              "    }\n",
              "\n",
              "    .dataframe thead th {\n",
              "        text-align: right;\n",
              "    }\n",
              "</style>\n",
              "<table border=\"1\" class=\"dataframe\">\n",
              "  <thead>\n",
              "    <tr style=\"text-align: right;\">\n",
              "      <th></th>\n",
              "      <th>date</th>\n",
              "      <th>location</th>\n",
              "      <th>total_vaccinations</th>\n",
              "      <th>total_distributed</th>\n",
              "      <th>people_vaccinated</th>\n",
              "      <th>people_fully_vaccinated_per_hundred</th>\n",
              "      <th>total_vaccinations_per_hundred</th>\n",
              "      <th>people_fully_vaccinated</th>\n",
              "      <th>people_vaccinated_per_hundred</th>\n",
              "      <th>distributed_per_hundred</th>\n",
              "      <th>daily_vaccinations_raw</th>\n",
              "      <th>daily_vaccinations</th>\n",
              "      <th>daily_vaccinations_per_million</th>\n",
              "      <th>share_doses_used</th>\n",
              "    </tr>\n",
              "  </thead>\n",
              "  <tbody>\n",
              "    <tr>\n",
              "      <th>0</th>\n",
              "      <td>2021-01-12</td>\n",
              "      <td>Alabama</td>\n",
              "      <td>78134.0</td>\n",
              "      <td>377025.0</td>\n",
              "      <td>70861.0</td>\n",
              "      <td>0.15</td>\n",
              "      <td>1.59</td>\n",
              "      <td>7270.0</td>\n",
              "      <td>1.45</td>\n",
              "      <td>7.69</td>\n",
              "      <td>NaN</td>\n",
              "      <td>NaN</td>\n",
              "      <td>NaN</td>\n",
              "      <td>0.207</td>\n",
              "    </tr>\n",
              "    <tr>\n",
              "      <th>1</th>\n",
              "      <td>2021-01-13</td>\n",
              "      <td>Alabama</td>\n",
              "      <td>84040.0</td>\n",
              "      <td>378975.0</td>\n",
              "      <td>74792.0</td>\n",
              "      <td>0.19</td>\n",
              "      <td>1.71</td>\n",
              "      <td>9245.0</td>\n",
              "      <td>1.53</td>\n",
              "      <td>7.73</td>\n",
              "      <td>5906.0</td>\n",
              "      <td>5906.0</td>\n",
              "      <td>1205.0</td>\n",
              "      <td>0.222</td>\n",
              "    </tr>\n",
              "    <tr>\n",
              "      <th>2</th>\n",
              "      <td>2021-01-14</td>\n",
              "      <td>Alabama</td>\n",
              "      <td>92300.0</td>\n",
              "      <td>435350.0</td>\n",
              "      <td>80480.0</td>\n",
              "      <td>NaN</td>\n",
              "      <td>1.88</td>\n",
              "      <td>NaN</td>\n",
              "      <td>1.64</td>\n",
              "      <td>8.88</td>\n",
              "      <td>8260.0</td>\n",
              "      <td>7083.0</td>\n",
              "      <td>1445.0</td>\n",
              "      <td>0.212</td>\n",
              "    </tr>\n",
              "    <tr>\n",
              "      <th>3</th>\n",
              "      <td>2021-01-15</td>\n",
              "      <td>Alabama</td>\n",
              "      <td>100567.0</td>\n",
              "      <td>444650.0</td>\n",
              "      <td>86956.0</td>\n",
              "      <td>0.28</td>\n",
              "      <td>2.05</td>\n",
              "      <td>13488.0</td>\n",
              "      <td>1.77</td>\n",
              "      <td>9.07</td>\n",
              "      <td>8267.0</td>\n",
              "      <td>7478.0</td>\n",
              "      <td>1525.0</td>\n",
              "      <td>0.226</td>\n",
              "    </tr>\n",
              "    <tr>\n",
              "      <th>4</th>\n",
              "      <td>2021-01-16</td>\n",
              "      <td>Alabama</td>\n",
              "      <td>NaN</td>\n",
              "      <td>NaN</td>\n",
              "      <td>NaN</td>\n",
              "      <td>NaN</td>\n",
              "      <td>NaN</td>\n",
              "      <td>NaN</td>\n",
              "      <td>NaN</td>\n",
              "      <td>NaN</td>\n",
              "      <td>7557.0</td>\n",
              "      <td>7498.0</td>\n",
              "      <td>1529.0</td>\n",
              "      <td>NaN</td>\n",
              "    </tr>\n",
              "  </tbody>\n",
              "</table>\n",
              "</div>"
            ],
            "text/plain": [
              "         date location  ...  daily_vaccinations_per_million  share_doses_used\n",
              "0  2021-01-12  Alabama  ...                             NaN             0.207\n",
              "1  2021-01-13  Alabama  ...                          1205.0             0.222\n",
              "2  2021-01-14  Alabama  ...                          1445.0             0.212\n",
              "3  2021-01-15  Alabama  ...                          1525.0             0.226\n",
              "4  2021-01-16  Alabama  ...                          1529.0               NaN\n",
              "\n",
              "[5 rows x 14 columns]"
            ]
          },
          "metadata": {
            "tags": []
          },
          "execution_count": 3
        }
      ]
    },
    {
      "cell_type": "code",
      "metadata": {
        "colab": {
          "base_uri": "https://localhost:8080/",
          "height": 308
        },
        "id": "bmqKcqlnhTOX",
        "outputId": "5013624f-dddb-4832-a10e-f4361a432609"
      },
      "source": [
        "covid.describe()"
      ],
      "execution_count": 4,
      "outputs": [
        {
          "output_type": "execute_result",
          "data": {
            "text/html": [
              "<div>\n",
              "<style scoped>\n",
              "    .dataframe tbody tr th:only-of-type {\n",
              "        vertical-align: middle;\n",
              "    }\n",
              "\n",
              "    .dataframe tbody tr th {\n",
              "        vertical-align: top;\n",
              "    }\n",
              "\n",
              "    .dataframe thead th {\n",
              "        text-align: right;\n",
              "    }\n",
              "</style>\n",
              "<table border=\"1\" class=\"dataframe\">\n",
              "  <thead>\n",
              "    <tr style=\"text-align: right;\">\n",
              "      <th></th>\n",
              "      <th>total_vaccinations</th>\n",
              "      <th>total_distributed</th>\n",
              "      <th>people_vaccinated</th>\n",
              "      <th>people_fully_vaccinated_per_hundred</th>\n",
              "      <th>total_vaccinations_per_hundred</th>\n",
              "      <th>people_fully_vaccinated</th>\n",
              "      <th>people_vaccinated_per_hundred</th>\n",
              "      <th>distributed_per_hundred</th>\n",
              "      <th>daily_vaccinations_raw</th>\n",
              "      <th>daily_vaccinations</th>\n",
              "      <th>daily_vaccinations_per_million</th>\n",
              "      <th>share_doses_used</th>\n",
              "    </tr>\n",
              "  </thead>\n",
              "  <tbody>\n",
              "    <tr>\n",
              "      <th>count</th>\n",
              "      <td>6.903000e+03</td>\n",
              "      <td>6.787000e+03</td>\n",
              "      <td>6.775000e+03</td>\n",
              "      <td>6345.000000</td>\n",
              "      <td>6447.000000</td>\n",
              "      <td>6.693000e+03</td>\n",
              "      <td>6422.000000</td>\n",
              "      <td>6434.000000</td>\n",
              "      <td>7.108000e+03</td>\n",
              "      <td>7.108000e+03</td>\n",
              "      <td>6637.00000</td>\n",
              "      <td>6787.000000</td>\n",
              "    </tr>\n",
              "    <tr>\n",
              "      <th>mean</th>\n",
              "      <td>3.479791e+06</td>\n",
              "      <td>4.525991e+06</td>\n",
              "      <td>2.237804e+06</td>\n",
              "      <td>12.440514</td>\n",
              "      <td>33.364512</td>\n",
              "      <td>1.257051e+06</td>\n",
              "      <td>21.437748</td>\n",
              "      <td>45.409964</td>\n",
              "      <td>6.923817e+04</td>\n",
              "      <td>6.744858e+04</td>\n",
              "      <td>6263.88760</td>\n",
              "      <td>0.706653</td>\n",
              "    </tr>\n",
              "    <tr>\n",
              "      <th>std</th>\n",
              "      <td>1.596265e+07</td>\n",
              "      <td>2.073558e+07</td>\n",
              "      <td>1.024115e+07</td>\n",
              "      <td>9.743194</td>\n",
              "      <td>22.042243</td>\n",
              "      <td>6.250765e+06</td>\n",
              "      <td>12.979431</td>\n",
              "      <td>27.426635</td>\n",
              "      <td>2.908158e+05</td>\n",
              "      <td>2.751376e+05</td>\n",
              "      <td>2888.32359</td>\n",
              "      <td>0.155054</td>\n",
              "    </tr>\n",
              "    <tr>\n",
              "      <th>min</th>\n",
              "      <td>4.160000e+02</td>\n",
              "      <td>6.000000e+03</td>\n",
              "      <td>4.010000e+02</td>\n",
              "      <td>0.000000</td>\n",
              "      <td>0.170000</td>\n",
              "      <td>1.000000e+00</td>\n",
              "      <td>0.240000</td>\n",
              "      <td>6.140000</td>\n",
              "      <td>-4.453500e+04</td>\n",
              "      <td>0.000000e+00</td>\n",
              "      <td>0.00000</td>\n",
              "      <td>0.043000</td>\n",
              "    </tr>\n",
              "    <tr>\n",
              "      <th>25%</th>\n",
              "      <td>2.489545e+05</td>\n",
              "      <td>3.739025e+05</td>\n",
              "      <td>1.744980e+05</td>\n",
              "      <td>3.660000</td>\n",
              "      <td>13.865000</td>\n",
              "      <td>5.518300e+04</td>\n",
              "      <td>10.270000</td>\n",
              "      <td>20.267500</td>\n",
              "      <td>4.248750e+03</td>\n",
              "      <td>6.673750e+03</td>\n",
              "      <td>4070.00000</td>\n",
              "      <td>0.631000</td>\n",
              "    </tr>\n",
              "    <tr>\n",
              "      <th>50%</th>\n",
              "      <td>8.309030e+05</td>\n",
              "      <td>1.127670e+06</td>\n",
              "      <td>5.562530e+05</td>\n",
              "      <td>10.640000</td>\n",
              "      <td>30.120000</td>\n",
              "      <td>2.553300e+05</td>\n",
              "      <td>19.530000</td>\n",
              "      <td>41.000000</td>\n",
              "      <td>1.695550e+04</td>\n",
              "      <td>1.912400e+04</td>\n",
              "      <td>6056.00000</td>\n",
              "      <td>0.747000</td>\n",
              "    </tr>\n",
              "    <tr>\n",
              "      <th>75%</th>\n",
              "      <td>2.341456e+06</td>\n",
              "      <td>2.932775e+06</td>\n",
              "      <td>1.443707e+06</td>\n",
              "      <td>19.400000</td>\n",
              "      <td>50.455000</td>\n",
              "      <td>8.113230e+05</td>\n",
              "      <td>31.437500</td>\n",
              "      <td>67.907500</td>\n",
              "      <td>4.612075e+04</td>\n",
              "      <td>4.537275e+04</td>\n",
              "      <td>8034.00000</td>\n",
              "      <td>0.808000</td>\n",
              "    </tr>\n",
              "    <tr>\n",
              "      <th>max</th>\n",
              "      <td>2.434635e+08</td>\n",
              "      <td>3.125082e+08</td>\n",
              "      <td>1.462392e+08</td>\n",
              "      <td>49.450000</td>\n",
              "      <td>113.390000</td>\n",
              "      <td>1.034226e+08</td>\n",
              "      <td>70.670000</td>\n",
              "      <td>137.380000</td>\n",
              "      <td>4.629928e+06</td>\n",
              "      <td>3.384387e+06</td>\n",
              "      <td>22621.00000</td>\n",
              "      <td>1.105000</td>\n",
              "    </tr>\n",
              "  </tbody>\n",
              "</table>\n",
              "</div>"
            ],
            "text/plain": [
              "       total_vaccinations  ...  share_doses_used\n",
              "count        6.903000e+03  ...       6787.000000\n",
              "mean         3.479791e+06  ...          0.706653\n",
              "std          1.596265e+07  ...          0.155054\n",
              "min          4.160000e+02  ...          0.043000\n",
              "25%          2.489545e+05  ...          0.631000\n",
              "50%          8.309030e+05  ...          0.747000\n",
              "75%          2.341456e+06  ...          0.808000\n",
              "max          2.434635e+08  ...          1.105000\n",
              "\n",
              "[8 rows x 12 columns]"
            ]
          },
          "metadata": {
            "tags": []
          },
          "execution_count": 4
        }
      ]
    },
    {
      "cell_type": "code",
      "metadata": {
        "colab": {
          "base_uri": "https://localhost:8080/"
        },
        "id": "DkifZFsPpKss",
        "outputId": "347dcf4e-eee4-4290-9096-e4da6d0f25e4"
      },
      "source": [
        "covid.dtypes"
      ],
      "execution_count": 5,
      "outputs": [
        {
          "output_type": "execute_result",
          "data": {
            "text/plain": [
              "date                                    object\n",
              "location                                object\n",
              "total_vaccinations                     float64\n",
              "total_distributed                      float64\n",
              "people_vaccinated                      float64\n",
              "people_fully_vaccinated_per_hundred    float64\n",
              "total_vaccinations_per_hundred         float64\n",
              "people_fully_vaccinated                float64\n",
              "people_vaccinated_per_hundred          float64\n",
              "distributed_per_hundred                float64\n",
              "daily_vaccinations_raw                 float64\n",
              "daily_vaccinations                     float64\n",
              "daily_vaccinations_per_million         float64\n",
              "share_doses_used                       float64\n",
              "dtype: object"
            ]
          },
          "metadata": {
            "tags": []
          },
          "execution_count": 5
        }
      ]
    },
    {
      "cell_type": "code",
      "metadata": {
        "colab": {
          "base_uri": "https://localhost:8080/"
        },
        "id": "sIAQonpDpQoQ",
        "outputId": "efef43d9-4fcc-43e8-fd00-b58d054e1631"
      },
      "source": [
        "covid.shape"
      ],
      "execution_count": 6,
      "outputs": [
        {
          "output_type": "execute_result",
          "data": {
            "text/plain": [
              "(7173, 14)"
            ]
          },
          "metadata": {
            "tags": []
          },
          "execution_count": 6
        }
      ]
    },
    {
      "cell_type": "code",
      "metadata": {
        "colab": {
          "base_uri": "https://localhost:8080/"
        },
        "id": "IzDFv3JgpVPi",
        "outputId": "9e64e884-5a99-4f2d-c32e-d5bc0f30871a"
      },
      "source": [
        "round((covid.isnull().sum()/covid.shape[0])*100,2)"
      ],
      "execution_count": 7,
      "outputs": [
        {
          "output_type": "execute_result",
          "data": {
            "text/plain": [
              "date                                    0.00\n",
              "location                                0.00\n",
              "total_vaccinations                      3.76\n",
              "total_distributed                       5.38\n",
              "people_vaccinated                       5.55\n",
              "people_fully_vaccinated_per_hundred    11.54\n",
              "total_vaccinations_per_hundred         10.12\n",
              "people_fully_vaccinated                 6.69\n",
              "people_vaccinated_per_hundred          10.47\n",
              "distributed_per_hundred                10.30\n",
              "daily_vaccinations_raw                  0.91\n",
              "daily_vaccinations                      0.91\n",
              "daily_vaccinations_per_million          7.47\n",
              "share_doses_used                        5.38\n",
              "dtype: float64"
            ]
          },
          "metadata": {
            "tags": []
          },
          "execution_count": 7
        }
      ]
    },
    {
      "cell_type": "code",
      "metadata": {
        "colab": {
          "base_uri": "https://localhost:8080/"
        },
        "id": "qYLjAsoIpdei",
        "outputId": "89751df7-5d0a-4c76-e8fa-6eecf5b8da05"
      },
      "source": [
        "covid.iloc[1]"
      ],
      "execution_count": 8,
      "outputs": [
        {
          "output_type": "execute_result",
          "data": {
            "text/plain": [
              "date                                   2021-01-13\n",
              "location                                  Alabama\n",
              "total_vaccinations                          84040\n",
              "total_distributed                          378975\n",
              "people_vaccinated                           74792\n",
              "people_fully_vaccinated_per_hundred          0.19\n",
              "total_vaccinations_per_hundred               1.71\n",
              "people_fully_vaccinated                      9245\n",
              "people_vaccinated_per_hundred                1.53\n",
              "distributed_per_hundred                      7.73\n",
              "daily_vaccinations_raw                       5906\n",
              "daily_vaccinations                           5906\n",
              "daily_vaccinations_per_million               1205\n",
              "share_doses_used                            0.222\n",
              "Name: 1, dtype: object"
            ]
          },
          "metadata": {
            "tags": []
          },
          "execution_count": 8
        }
      ]
    },
    {
      "cell_type": "code",
      "metadata": {
        "colab": {
          "base_uri": "https://localhost:8080/"
        },
        "id": "spwwqJ3qphgb",
        "outputId": "b6b75aa7-b7cb-4a90-cd89-3fe67358736c"
      },
      "source": [
        "covid.iloc[2]"
      ],
      "execution_count": 9,
      "outputs": [
        {
          "output_type": "execute_result",
          "data": {
            "text/plain": [
              "date                                   2021-01-14\n",
              "location                                  Alabama\n",
              "total_vaccinations                          92300\n",
              "total_distributed                          435350\n",
              "people_vaccinated                           80480\n",
              "people_fully_vaccinated_per_hundred           NaN\n",
              "total_vaccinations_per_hundred               1.88\n",
              "people_fully_vaccinated                       NaN\n",
              "people_vaccinated_per_hundred                1.64\n",
              "distributed_per_hundred                      8.88\n",
              "daily_vaccinations_raw                       8260\n",
              "daily_vaccinations                           7083\n",
              "daily_vaccinations_per_million               1445\n",
              "share_doses_used                            0.212\n",
              "Name: 2, dtype: object"
            ]
          },
          "metadata": {
            "tags": []
          },
          "execution_count": 9
        }
      ]
    },
    {
      "cell_type": "code",
      "metadata": {
        "colab": {
          "base_uri": "https://localhost:8080/"
        },
        "id": "vTWSqjYXpixe",
        "outputId": "5319a6e3-dfa4-43e3-9f24-afdb917eb7e3"
      },
      "source": [
        "covid.iloc[3]"
      ],
      "execution_count": 10,
      "outputs": [
        {
          "output_type": "execute_result",
          "data": {
            "text/plain": [
              "date                                   2021-01-15\n",
              "location                                  Alabama\n",
              "total_vaccinations                         100567\n",
              "total_distributed                          444650\n",
              "people_vaccinated                           86956\n",
              "people_fully_vaccinated_per_hundred          0.28\n",
              "total_vaccinations_per_hundred               2.05\n",
              "people_fully_vaccinated                     13488\n",
              "people_vaccinated_per_hundred                1.77\n",
              "distributed_per_hundred                      9.07\n",
              "daily_vaccinations_raw                       8267\n",
              "daily_vaccinations                           7478\n",
              "daily_vaccinations_per_million               1525\n",
              "share_doses_used                            0.226\n",
              "Name: 3, dtype: object"
            ]
          },
          "metadata": {
            "tags": []
          },
          "execution_count": 10
        }
      ]
    },
    {
      "cell_type": "code",
      "metadata": {
        "colab": {
          "base_uri": "https://localhost:8080/"
        },
        "id": "fTwL-JHypp5a",
        "outputId": "d8b68117-d7dc-425d-dfe5-bb4c0865a0b1"
      },
      "source": [
        "covid.columns"
      ],
      "execution_count": 11,
      "outputs": [
        {
          "output_type": "execute_result",
          "data": {
            "text/plain": [
              "Index(['date', 'location', 'total_vaccinations', 'total_distributed',\n",
              "       'people_vaccinated', 'people_fully_vaccinated_per_hundred',\n",
              "       'total_vaccinations_per_hundred', 'people_fully_vaccinated',\n",
              "       'people_vaccinated_per_hundred', 'distributed_per_hundred',\n",
              "       'daily_vaccinations_raw', 'daily_vaccinations',\n",
              "       'daily_vaccinations_per_million', 'share_doses_used'],\n",
              "      dtype='object')"
            ]
          },
          "metadata": {
            "tags": []
          },
          "execution_count": 11
        }
      ]
    },
    {
      "cell_type": "code",
      "metadata": {
        "colab": {
          "base_uri": "https://localhost:8080/",
          "height": 492
        },
        "id": "Yaz7lUj6psuT",
        "outputId": "f7c581e8-00e4-46d4-ff87-714e1341037a"
      },
      "source": [
        "covid.groupby([\"location\"]).sum()"
      ],
      "execution_count": 12,
      "outputs": [
        {
          "output_type": "execute_result",
          "data": {
            "text/html": [
              "<div>\n",
              "<style scoped>\n",
              "    .dataframe tbody tr th:only-of-type {\n",
              "        vertical-align: middle;\n",
              "    }\n",
              "\n",
              "    .dataframe tbody tr th {\n",
              "        vertical-align: top;\n",
              "    }\n",
              "\n",
              "    .dataframe thead th {\n",
              "        text-align: right;\n",
              "    }\n",
              "</style>\n",
              "<table border=\"1\" class=\"dataframe\">\n",
              "  <thead>\n",
              "    <tr style=\"text-align: right;\">\n",
              "      <th></th>\n",
              "      <th>total_vaccinations</th>\n",
              "      <th>total_distributed</th>\n",
              "      <th>people_vaccinated</th>\n",
              "      <th>people_fully_vaccinated_per_hundred</th>\n",
              "      <th>total_vaccinations_per_hundred</th>\n",
              "      <th>people_fully_vaccinated</th>\n",
              "      <th>people_vaccinated_per_hundred</th>\n",
              "      <th>distributed_per_hundred</th>\n",
              "      <th>daily_vaccinations_raw</th>\n",
              "      <th>daily_vaccinations</th>\n",
              "      <th>daily_vaccinations_per_million</th>\n",
              "      <th>share_doses_used</th>\n",
              "    </tr>\n",
              "    <tr>\n",
              "      <th>location</th>\n",
              "      <th></th>\n",
              "      <th></th>\n",
              "      <th></th>\n",
              "      <th></th>\n",
              "      <th></th>\n",
              "      <th></th>\n",
              "      <th></th>\n",
              "      <th></th>\n",
              "      <th></th>\n",
              "      <th></th>\n",
              "      <th></th>\n",
              "      <th></th>\n",
              "    </tr>\n",
              "  </thead>\n",
              "  <tbody>\n",
              "    <tr>\n",
              "      <th>Alabama</th>\n",
              "      <td>130667801.0</td>\n",
              "      <td>207621650.0</td>\n",
              "      <td>87646145.0</td>\n",
              "      <td>987.95</td>\n",
              "      <td>2664.91</td>\n",
              "      <td>48442170.0</td>\n",
              "      <td>1787.53</td>\n",
              "      <td>4234.37</td>\n",
              "      <td>2539271.0</td>\n",
              "      <td>2477783.0</td>\n",
              "      <td>505339.0</td>\n",
              "      <td>63.422</td>\n",
              "    </tr>\n",
              "    <tr>\n",
              "      <th>Alaska</th>\n",
              "      <td>32268070.0</td>\n",
              "      <td>47551960.0</td>\n",
              "      <td>19788669.0</td>\n",
              "      <td>1740.56</td>\n",
              "      <td>4410.96</td>\n",
              "      <td>12733091.0</td>\n",
              "      <td>2705.07</td>\n",
              "      <td>6500.17</td>\n",
              "      <td>524824.0</td>\n",
              "      <td>522282.0</td>\n",
              "      <td>713951.0</td>\n",
              "      <td>69.469</td>\n",
              "    </tr>\n",
              "    <tr>\n",
              "      <th>American Samoa</th>\n",
              "      <td>2383747.0</td>\n",
              "      <td>3758400.0</td>\n",
              "      <td>1471629.0</td>\n",
              "      <td>1644.97</td>\n",
              "      <td>4280.47</td>\n",
              "      <td>916078.0</td>\n",
              "      <td>2642.59</td>\n",
              "      <td>6748.83</td>\n",
              "      <td>36619.0</td>\n",
              "      <td>37381.0</td>\n",
              "      <td>671243.0</td>\n",
              "      <td>63.619</td>\n",
              "    </tr>\n",
              "    <tr>\n",
              "      <th>Arizona</th>\n",
              "      <td>253560019.0</td>\n",
              "      <td>325991270.0</td>\n",
              "      <td>161680176.0</td>\n",
              "      <td>1225.60</td>\n",
              "      <td>3483.58</td>\n",
              "      <td>89209571.0</td>\n",
              "      <td>2221.21</td>\n",
              "      <td>4478.64</td>\n",
              "      <td>4982457.0</td>\n",
              "      <td>4897152.0</td>\n",
              "      <td>672807.0</td>\n",
              "      <td>77.179</td>\n",
              "    </tr>\n",
              "    <tr>\n",
              "      <th>Arkansas</th>\n",
              "      <td>91840756.0</td>\n",
              "      <td>135946375.0</td>\n",
              "      <td>60399983.0</td>\n",
              "      <td>1092.19</td>\n",
              "      <td>3043.30</td>\n",
              "      <td>32959756.0</td>\n",
              "      <td>2001.46</td>\n",
              "      <td>4504.84</td>\n",
              "      <td>1762916.0</td>\n",
              "      <td>1819583.0</td>\n",
              "      <td>602950.0</td>\n",
              "      <td>70.120</td>\n",
              "    </tr>\n",
              "    <tr>\n",
              "      <th>...</th>\n",
              "      <td>...</td>\n",
              "      <td>...</td>\n",
              "      <td>...</td>\n",
              "      <td>...</td>\n",
              "      <td>...</td>\n",
              "      <td>...</td>\n",
              "      <td>...</td>\n",
              "      <td>...</td>\n",
              "      <td>...</td>\n",
              "      <td>...</td>\n",
              "      <td>...</td>\n",
              "      <td>...</td>\n",
              "    </tr>\n",
              "    <tr>\n",
              "      <th>Virginia</th>\n",
              "      <td>308677967.0</td>\n",
              "      <td>380924135.0</td>\n",
              "      <td>202113286.0</td>\n",
              "      <td>1302.99</td>\n",
              "      <td>3616.35</td>\n",
              "      <td>111212532.0</td>\n",
              "      <td>2367.91</td>\n",
              "      <td>4462.82</td>\n",
              "      <td>6560612.0</td>\n",
              "      <td>6356185.0</td>\n",
              "      <td>744669.0</td>\n",
              "      <td>80.473</td>\n",
              "    </tr>\n",
              "    <tr>\n",
              "      <th>Washington</th>\n",
              "      <td>270604410.0</td>\n",
              "      <td>342773315.0</td>\n",
              "      <td>174222547.0</td>\n",
              "      <td>1316.05</td>\n",
              "      <td>3553.68</td>\n",
              "      <td>100214998.0</td>\n",
              "      <td>2287.88</td>\n",
              "      <td>4501.29</td>\n",
              "      <td>5711955.0</td>\n",
              "      <td>5538714.0</td>\n",
              "      <td>727353.0</td>\n",
              "      <td>78.872</td>\n",
              "    </tr>\n",
              "    <tr>\n",
              "      <th>West Virginia</th>\n",
              "      <td>67913205.0</td>\n",
              "      <td>87813695.0</td>\n",
              "      <td>41080422.0</td>\n",
              "      <td>1484.86</td>\n",
              "      <td>3789.51</td>\n",
              "      <td>26611229.0</td>\n",
              "      <td>2292.29</td>\n",
              "      <td>4899.90</td>\n",
              "      <td>1079240.0</td>\n",
              "      <td>1076691.0</td>\n",
              "      <td>600780.0</td>\n",
              "      <td>84.730</td>\n",
              "    </tr>\n",
              "    <tr>\n",
              "      <th>Wisconsin</th>\n",
              "      <td>218499615.0</td>\n",
              "      <td>253847570.0</td>\n",
              "      <td>139040641.0</td>\n",
              "      <td>1397.50</td>\n",
              "      <td>3752.70</td>\n",
              "      <td>81373600.0</td>\n",
              "      <td>2388.01</td>\n",
              "      <td>4359.85</td>\n",
              "      <td>4563486.0</td>\n",
              "      <td>4441226.0</td>\n",
              "      <td>762777.0</td>\n",
              "      <td>84.284</td>\n",
              "    </tr>\n",
              "    <tr>\n",
              "      <th>Wyoming</th>\n",
              "      <td>19667802.0</td>\n",
              "      <td>27736490.0</td>\n",
              "      <td>12084763.0</td>\n",
              "      <td>1302.80</td>\n",
              "      <td>3398.25</td>\n",
              "      <td>7539994.0</td>\n",
              "      <td>2088.06</td>\n",
              "      <td>4792.39</td>\n",
              "      <td>341755.0</td>\n",
              "      <td>339346.0</td>\n",
              "      <td>586329.0</td>\n",
              "      <td>73.071</td>\n",
              "    </tr>\n",
              "  </tbody>\n",
              "</table>\n",
              "<p>65 rows × 12 columns</p>\n",
              "</div>"
            ],
            "text/plain": [
              "                total_vaccinations  ...  share_doses_used\n",
              "location                            ...                  \n",
              "Alabama                130667801.0  ...            63.422\n",
              "Alaska                  32268070.0  ...            69.469\n",
              "American Samoa           2383747.0  ...            63.619\n",
              "Arizona                253560019.0  ...            77.179\n",
              "Arkansas                91840756.0  ...            70.120\n",
              "...                            ...  ...               ...\n",
              "Virginia               308677967.0  ...            80.473\n",
              "Washington             270604410.0  ...            78.872\n",
              "West Virginia           67913205.0  ...            84.730\n",
              "Wisconsin              218499615.0  ...            84.284\n",
              "Wyoming                 19667802.0  ...            73.071\n",
              "\n",
              "[65 rows x 12 columns]"
            ]
          },
          "metadata": {
            "tags": []
          },
          "execution_count": 12
        }
      ]
    },
    {
      "cell_type": "code",
      "metadata": {
        "colab": {
          "base_uri": "https://localhost:8080/"
        },
        "id": "ddk87nAZpzBA",
        "outputId": "b6afe2e5-483c-4ba4-b41f-b5b213d90def"
      },
      "source": [
        "fake_states = covid.location.unique()\n",
        "fake_states = fake_states.tolist()\n",
        "fake_states"
      ],
      "execution_count": 13,
      "outputs": [
        {
          "output_type": "execute_result",
          "data": {
            "text/plain": [
              "['Alabama',\n",
              " 'Alaska',\n",
              " 'American Samoa',\n",
              " 'Arizona',\n",
              " 'Arkansas',\n",
              " 'Bureau of Prisons',\n",
              " 'California',\n",
              " 'Colorado',\n",
              " 'Connecticut',\n",
              " 'Delaware',\n",
              " 'Dept of Defense',\n",
              " 'District of Columbia',\n",
              " 'Federated States of Micronesia',\n",
              " 'Florida',\n",
              " 'Georgia',\n",
              " 'Guam',\n",
              " 'Hawaii',\n",
              " 'Idaho',\n",
              " 'Illinois',\n",
              " 'Indian Health Svc',\n",
              " 'Indiana',\n",
              " 'Iowa',\n",
              " 'Kansas',\n",
              " 'Kentucky',\n",
              " 'Long Term Care',\n",
              " 'Louisiana',\n",
              " 'Maine',\n",
              " 'Marshall Islands',\n",
              " 'Maryland',\n",
              " 'Massachusetts',\n",
              " 'Michigan',\n",
              " 'Minnesota',\n",
              " 'Mississippi',\n",
              " 'Missouri',\n",
              " 'Montana',\n",
              " 'Nebraska',\n",
              " 'Nevada',\n",
              " 'New Hampshire',\n",
              " 'New Jersey',\n",
              " 'New Mexico',\n",
              " 'New York State',\n",
              " 'North Carolina',\n",
              " 'North Dakota',\n",
              " 'Northern Mariana Islands',\n",
              " 'Ohio',\n",
              " 'Oklahoma',\n",
              " 'Oregon',\n",
              " 'Pennsylvania',\n",
              " 'Puerto Rico',\n",
              " 'Republic of Palau',\n",
              " 'Rhode Island',\n",
              " 'South Carolina',\n",
              " 'South Dakota',\n",
              " 'Tennessee',\n",
              " 'Texas',\n",
              " 'United States',\n",
              " 'Utah',\n",
              " 'Vermont',\n",
              " 'Veterans Health',\n",
              " 'Virgin Islands',\n",
              " 'Virginia',\n",
              " 'Washington',\n",
              " 'West Virginia',\n",
              " 'Wisconsin',\n",
              " 'Wyoming']"
            ]
          },
          "metadata": {
            "tags": []
          },
          "execution_count": 13
        }
      ]
    },
    {
      "cell_type": "code",
      "metadata": {
        "colab": {
          "base_uri": "https://localhost:8080/"
        },
        "id": "Xo56yHYcp3ZY",
        "outputId": "9a9e005b-198e-4bdb-e728-85cbf5ab5afb"
      },
      "source": [
        "len(covid.location.unique())"
      ],
      "execution_count": 14,
      "outputs": [
        {
          "output_type": "execute_result",
          "data": {
            "text/plain": [
              "65"
            ]
          },
          "metadata": {
            "tags": []
          },
          "execution_count": 14
        }
      ]
    },
    {
      "cell_type": "code",
      "metadata": {
        "colab": {
          "base_uri": "https://localhost:8080/"
        },
        "id": "D0nH7NswqC8x",
        "outputId": "4db97e1f-9b1d-4cf9-9b05-3faeaac2f46f"
      },
      "source": [
        "real_states = [\"Alabama\", \"Alaska\", \"Arizona\", \"Arkansas\", \"California\", \"Colorado\", \"Connecticut\", \"Delaware\", \"Florida\", \"Georgia\", \"Hawaii\", \"Idaho\", \"Illinois\", \"Indiana\", \"Iowa\", \"Kansas\", \"Kentucky\",\n",
        "               \"Louisiana\", \"Maine\", \"Maryland\", \"Massachusetts\", \"Michigan\", \"Minnesota\", \"Mississippi\", \"Missouri\", \"Montana\", \"Nebraska\", \"Nevada\", \"New Hampshire\", \"New Jersey\", \"New Mexico\", \"New York\", \"North Carolina\",\n",
        "               \"North Dakota\", \"Ohio\", \"Oklahoma\", \"Oregon\", \"Pennsylvania\", \"Rhode Island\", \"South Carolina\", \"South Dakota\", \"Tennessee\", \"Texas\", \"Utah\", \"Vermont\", \"Virginia\", \"Washington\", \"West Virginia\",\n",
        "               \"Wisconsin\", \"Wyoming\"]\n",
        "\n",
        "\n",
        "if len(real_states) == 50:\n",
        "    print(\"You're on the ball, keep going tiger\")"
      ],
      "execution_count": 15,
      "outputs": [
        {
          "output_type": "stream",
          "text": [
            "You're on the ball, keep going tiger\n"
          ],
          "name": "stdout"
        }
      ]
    },
    {
      "cell_type": "code",
      "metadata": {
        "colab": {
          "base_uri": "https://localhost:8080/",
          "height": 305
        },
        "id": "n8pM3lxSqKXK",
        "outputId": "b0a26ca2-4bf6-4b2d-c3d0-e3bbe50d18d9"
      },
      "source": [
        "coviddf = covid.location.isin(real_states)\n",
        "filtered = covid[coviddf]\n",
        "filtered.head()"
      ],
      "execution_count": 16,
      "outputs": [
        {
          "output_type": "execute_result",
          "data": {
            "text/html": [
              "<div>\n",
              "<style scoped>\n",
              "    .dataframe tbody tr th:only-of-type {\n",
              "        vertical-align: middle;\n",
              "    }\n",
              "\n",
              "    .dataframe tbody tr th {\n",
              "        vertical-align: top;\n",
              "    }\n",
              "\n",
              "    .dataframe thead th {\n",
              "        text-align: right;\n",
              "    }\n",
              "</style>\n",
              "<table border=\"1\" class=\"dataframe\">\n",
              "  <thead>\n",
              "    <tr style=\"text-align: right;\">\n",
              "      <th></th>\n",
              "      <th>date</th>\n",
              "      <th>location</th>\n",
              "      <th>total_vaccinations</th>\n",
              "      <th>total_distributed</th>\n",
              "      <th>people_vaccinated</th>\n",
              "      <th>people_fully_vaccinated_per_hundred</th>\n",
              "      <th>total_vaccinations_per_hundred</th>\n",
              "      <th>people_fully_vaccinated</th>\n",
              "      <th>people_vaccinated_per_hundred</th>\n",
              "      <th>distributed_per_hundred</th>\n",
              "      <th>daily_vaccinations_raw</th>\n",
              "      <th>daily_vaccinations</th>\n",
              "      <th>daily_vaccinations_per_million</th>\n",
              "      <th>share_doses_used</th>\n",
              "    </tr>\n",
              "  </thead>\n",
              "  <tbody>\n",
              "    <tr>\n",
              "      <th>0</th>\n",
              "      <td>2021-01-12</td>\n",
              "      <td>Alabama</td>\n",
              "      <td>78134.0</td>\n",
              "      <td>377025.0</td>\n",
              "      <td>70861.0</td>\n",
              "      <td>0.15</td>\n",
              "      <td>1.59</td>\n",
              "      <td>7270.0</td>\n",
              "      <td>1.45</td>\n",
              "      <td>7.69</td>\n",
              "      <td>NaN</td>\n",
              "      <td>NaN</td>\n",
              "      <td>NaN</td>\n",
              "      <td>0.207</td>\n",
              "    </tr>\n",
              "    <tr>\n",
              "      <th>1</th>\n",
              "      <td>2021-01-13</td>\n",
              "      <td>Alabama</td>\n",
              "      <td>84040.0</td>\n",
              "      <td>378975.0</td>\n",
              "      <td>74792.0</td>\n",
              "      <td>0.19</td>\n",
              "      <td>1.71</td>\n",
              "      <td>9245.0</td>\n",
              "      <td>1.53</td>\n",
              "      <td>7.73</td>\n",
              "      <td>5906.0</td>\n",
              "      <td>5906.0</td>\n",
              "      <td>1205.0</td>\n",
              "      <td>0.222</td>\n",
              "    </tr>\n",
              "    <tr>\n",
              "      <th>2</th>\n",
              "      <td>2021-01-14</td>\n",
              "      <td>Alabama</td>\n",
              "      <td>92300.0</td>\n",
              "      <td>435350.0</td>\n",
              "      <td>80480.0</td>\n",
              "      <td>NaN</td>\n",
              "      <td>1.88</td>\n",
              "      <td>NaN</td>\n",
              "      <td>1.64</td>\n",
              "      <td>8.88</td>\n",
              "      <td>8260.0</td>\n",
              "      <td>7083.0</td>\n",
              "      <td>1445.0</td>\n",
              "      <td>0.212</td>\n",
              "    </tr>\n",
              "    <tr>\n",
              "      <th>3</th>\n",
              "      <td>2021-01-15</td>\n",
              "      <td>Alabama</td>\n",
              "      <td>100567.0</td>\n",
              "      <td>444650.0</td>\n",
              "      <td>86956.0</td>\n",
              "      <td>0.28</td>\n",
              "      <td>2.05</td>\n",
              "      <td>13488.0</td>\n",
              "      <td>1.77</td>\n",
              "      <td>9.07</td>\n",
              "      <td>8267.0</td>\n",
              "      <td>7478.0</td>\n",
              "      <td>1525.0</td>\n",
              "      <td>0.226</td>\n",
              "    </tr>\n",
              "    <tr>\n",
              "      <th>4</th>\n",
              "      <td>2021-01-16</td>\n",
              "      <td>Alabama</td>\n",
              "      <td>NaN</td>\n",
              "      <td>NaN</td>\n",
              "      <td>NaN</td>\n",
              "      <td>NaN</td>\n",
              "      <td>NaN</td>\n",
              "      <td>NaN</td>\n",
              "      <td>NaN</td>\n",
              "      <td>NaN</td>\n",
              "      <td>7557.0</td>\n",
              "      <td>7498.0</td>\n",
              "      <td>1529.0</td>\n",
              "      <td>NaN</td>\n",
              "    </tr>\n",
              "  </tbody>\n",
              "</table>\n",
              "</div>"
            ],
            "text/plain": [
              "         date location  ...  daily_vaccinations_per_million  share_doses_used\n",
              "0  2021-01-12  Alabama  ...                             NaN             0.207\n",
              "1  2021-01-13  Alabama  ...                          1205.0             0.222\n",
              "2  2021-01-14  Alabama  ...                          1445.0             0.212\n",
              "3  2021-01-15  Alabama  ...                          1525.0             0.226\n",
              "4  2021-01-16  Alabama  ...                          1529.0               NaN\n",
              "\n",
              "[5 rows x 14 columns]"
            ]
          },
          "metadata": {
            "tags": []
          },
          "execution_count": 16
        }
      ]
    },
    {
      "cell_type": "code",
      "metadata": {
        "colab": {
          "base_uri": "https://localhost:8080/"
        },
        "id": "9JcpPFvuqOa1",
        "outputId": "f6e402dd-64e9-4d25-fe97-093f19988306"
      },
      "source": [
        "filtered.location.value_counts()"
      ],
      "execution_count": 17,
      "outputs": [
        {
          "output_type": "execute_result",
          "data": {
            "text/plain": [
              "West Virginia     110\n",
              "Vermont           110\n",
              "New Jersey        110\n",
              "Hawaii            110\n",
              "Wisconsin         110\n",
              "Wyoming           110\n",
              "Illinois          110\n",
              "Montana           110\n",
              "Minnesota         110\n",
              "North Carolina    110\n",
              "Florida           110\n",
              "Arkansas          110\n",
              "Kentucky          110\n",
              "Mississippi       110\n",
              "Kansas            110\n",
              "Nevada            110\n",
              "Nebraska          110\n",
              "Pennsylvania      110\n",
              "South Dakota      110\n",
              "Washington        110\n",
              "Louisiana         110\n",
              "Oklahoma          110\n",
              "Georgia           110\n",
              "Maryland          110\n",
              "Iowa              110\n",
              "Connecticut       110\n",
              "Tennessee         110\n",
              "Alabama           110\n",
              "Alaska            110\n",
              "New Mexico        110\n",
              "North Dakota      110\n",
              "Massachusetts     110\n",
              "Colorado          110\n",
              "Texas             110\n",
              "Utah              110\n",
              "Arizona           110\n",
              "Ohio              110\n",
              "Indiana           110\n",
              "Missouri          110\n",
              "Maine             110\n",
              "New Hampshire     110\n",
              "Rhode Island      110\n",
              "Michigan          110\n",
              "Oregon            110\n",
              "Idaho             110\n",
              "California        110\n",
              "Virginia          110\n",
              "Delaware          110\n",
              "South Carolina    110\n",
              "Name: location, dtype: int64"
            ]
          },
          "metadata": {
            "tags": []
          },
          "execution_count": 17
        }
      ]
    },
    {
      "cell_type": "code",
      "metadata": {
        "colab": {
          "base_uri": "https://localhost:8080/"
        },
        "id": "awrXu3haqcgu",
        "outputId": "d8ad09e4-eecd-46f1-a95c-229ba2607285"
      },
      "source": [
        "filtered.date.value_counts()"
      ],
      "execution_count": 18,
      "outputs": [
        {
          "output_type": "execute_result",
          "data": {
            "text/plain": [
              "2021-02-10    49\n",
              "2021-03-27    49\n",
              "2021-03-16    49\n",
              "2021-01-31    49\n",
              "2021-04-10    49\n",
              "              ..\n",
              "2021-01-27    49\n",
              "2021-02-28    49\n",
              "2021-01-19    49\n",
              "2021-02-22    49\n",
              "2021-02-18    49\n",
              "Name: date, Length: 110, dtype: int64"
            ]
          },
          "metadata": {
            "tags": []
          },
          "execution_count": 18
        }
      ]
    },
    {
      "cell_type": "code",
      "metadata": {
        "colab": {
          "base_uri": "https://localhost:8080/"
        },
        "id": "CGoU1UxpqflX",
        "outputId": "0067c5b8-b925-449a-e637-3b200ab61c34"
      },
      "source": [
        "filtered.date.value_counts().shape[0]"
      ],
      "execution_count": 19,
      "outputs": [
        {
          "output_type": "execute_result",
          "data": {
            "text/plain": [
              "110"
            ]
          },
          "metadata": {
            "tags": []
          },
          "execution_count": 19
        }
      ]
    },
    {
      "cell_type": "code",
      "metadata": {
        "colab": {
          "base_uri": "https://localhost:8080/"
        },
        "id": "7GeuPplWqiv4",
        "outputId": "5c6036c3-ac4a-4919-db16-8ef6b900c83a"
      },
      "source": [
        "filtered.shape[0] / filtered.date.value_counts().shape[0]"
      ],
      "execution_count": 20,
      "outputs": [
        {
          "output_type": "execute_result",
          "data": {
            "text/plain": [
              "49.0"
            ]
          },
          "metadata": {
            "tags": []
          },
          "execution_count": 20
        }
      ]
    }
  ]
}